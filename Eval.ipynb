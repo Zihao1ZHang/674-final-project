{
 "cells": [
  {
   "cell_type": "code",
   "execution_count": null,
   "metadata": {},
   "outputs": [],
   "source": [
    "import torch\n",
    "from Compeletion3D import Completion3D\n",
    "from torch_geometric.data import DataLoader\n",
    "import numpy as np\n",
    "from torch_geometric.data import DataLoader\n",
    "import matplotlib.pylab  as plt\n",
    "from mpl_toolkits.mplot3d import Axes3D\n",
    "from model import SA_net\n",
    "%matplotlib inline"
   ]
  },
  {
   "cell_type": "code",
   "execution_count": null,
   "metadata": {
    "pycharm": {
     "is_executing": false
    },
    "scrolled": false
   },
   "outputs": [],
   "source": [
    "path = 'C:/Users/Gsh_1/OneDrive/Documents/GitHub/674-final-project/data/Completion3D/'\n",
    "dataset = Completion3D(path, split='train',categories='Airplane')\n",
    "batch_size = 16\n",
    "device = torch.device('cuda')\n",
    "model = SA_net(1, 1).to(device)\n",
    "test_loader = DataLoader(\n",
    "    dataset, batch_size=batch_size, shuffle=False)\n",
    "model.load_state_dict(torch.load('C:/Users/Gsh_1/OneDrive/Documents/GitHub/674-final-project/trained/SA_net_Ch_Airplane_67440.pt',map_location=device))"
   ]
  },
  {
   "cell_type": "code",
   "execution_count": null,
   "metadata": {},
   "outputs": [],
   "source": [
    "gen_data = {\n",
    "    'pred': np.empty([len(dataset),2048,3]),\n",
    "    'true': np.empty([len(dataset),2048,3]),\n",
    "    'original': np.empty([len(dataset),2048,3]),\n",
    "}\n",
    "model.eval()\n",
    "for i,data in enumerate(test_loader):\n",
    "    print(data)\n",
    "    data = data.to(device)\n",
    "    with torch.no_grad():\n",
    "        begin = i*batch_size\n",
    "        end = begin + len(data.category)\n",
    "        gen_data['pred'][begin:end] = model(data, data.batch)[0].cpu().numpy().reshape((-1,2048,3))\n",
    "        gen_data['true'][begin:end] = data.y.cpu().numpy().reshape((-1,2048,3)) \n",
    "        gen_data['original'][begin:end] = data.pos.cpu().numpy().reshape((-1,2048,3)) "
   ]
  },
  {
   "cell_type": "code",
   "execution_count": null,
   "metadata": {
    "pycharm": {
     "is_executing": false
    }
   },
   "outputs": [],
   "source": [
    "def plot_3d_point_cloud(x, y, z, show=True, show_axis=True, in_u_sphere=False, marker='.', s=8, alpha=0.8, figsize=(15, 7), elev=20, azim=240, axis=None, title=None, *args, **kwargs):\n",
    "\n",
    "    if axis is None:\n",
    "        fig = plt.figure(figsize=figsize)\n",
    "        ax = fig.add_subplot(111, projection='3d')        \n",
    "    else:\n",
    "        ax = axis\n",
    "        fig = axis\n",
    "\n",
    "    if title is not None:\n",
    "        plt.title(title)\n",
    "\n",
    "    sc = ax.scatter(x, y, z, marker=marker, s=s, alpha=alpha, *args, **kwargs)\n",
    "    ax.view_init(elev=elev, azim=azim)\n",
    "\n",
    "    if in_u_sphere:\n",
    "        ax.set_xlim3d(-0.5, 0.5)\n",
    "        ax.set_ylim3d(-0.5, 0.5)\n",
    "        ax.set_zlim3d(-0.5, 0.5)\n",
    "    else:\n",
    "        miv = 0.7 * np.min([np.min(x), np.min(y), np.min(z)])  # Multiply with 0.7 to squeeze free-space.\n",
    "        mav = 0.7 * np.max([np.max(x), np.max(y), np.max(z)])\n",
    "        ax.set_xlim(miv, mav)\n",
    "        ax.set_ylim(miv, mav)\n",
    "        ax.set_zlim(miv, mav)\n",
    "        plt.tight_layout()\n",
    "\n",
    "    if not show_axis:\n",
    "        plt.axis('off')\n",
    "\n",
    "    if 'c' in kwargs:\n",
    "        plt.colorbar(sc)\n",
    "\n",
    "    if show:\n",
    "        plt.show()\n",
    "\n",
    "    return fig"
   ]
  },
  {
   "cell_type": "code",
   "execution_count": null,
   "metadata": {
    "pycharm": {
     "is_executing": false,
     "name": "#%%\n"
    }
   },
   "outputs": [],
   "source": [
    "fig = plt.figure(figsize=(30,10))\n",
    "ax_pred = fig.add_subplot(133, projection='3d')\n",
    "ax_true = fig.add_subplot(132, projection='3d')\n",
    "ax_orig = fig.add_subplot(131, projection='3d')\n",
    "num = 50\n",
    "\n",
    "plot_3d_point_cloud(gen_data['pred'][num][:,0], \n",
    "                    gen_data['pred'][num][:,1], \n",
    "                    gen_data['pred'][num][:,2], in_u_sphere=True,axis=ax_pred,show=False);\n",
    "plot_3d_point_cloud(gen_data['true'][num][:,0], \n",
    "                    gen_data['true'][num][:,1], \n",
    "                    gen_data['true'][num][:,2], in_u_sphere=True,axis=ax_true,show=False);\n",
    "plot_3d_point_cloud(gen_data['original'][num][:,0], \n",
    "                    gen_data['original'][num][:,1], \n",
    "                    gen_data['original'][num][:,2], in_u_sphere=True,axis=ax_orig,show=False);"
   ]
  },
  {
   "cell_type": "code",
   "execution_count": null,
   "metadata": {
    "pycharm": {
     "name": "#%%\n"
    }
   },
   "outputs": [],
   "source": [
    "\n"
   ]
  }
 ],
 "metadata": {
  "kernelspec": {
   "display_name": "Python 3",
   "language": "python",
   "name": "python3"
  },
  "language_info": {
   "codemirror_mode": {
    "name": "ipython",
    "version": 3
   },
   "file_extension": ".py",
   "mimetype": "text/x-python",
   "name": "python",
   "nbconvert_exporter": "python",
   "pygments_lexer": "ipython3",
   "version": "3.6.13"
  },
  "pycharm": {
   "stem_cell": {
    "cell_type": "raw",
    "metadata": {
     "collapsed": false
    },
    "source": []
   }
  }
 },
 "nbformat": 4,
 "nbformat_minor": 2
}
